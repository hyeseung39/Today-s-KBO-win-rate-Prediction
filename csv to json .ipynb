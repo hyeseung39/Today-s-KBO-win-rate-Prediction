{
  "nbformat": 4,
  "nbformat_minor": 0,
  "metadata": {
    "colab": {
      "provenance": []
    },
    "kernelspec": {
      "name": "python3",
      "display_name": "Python 3"
    },
    "language_info": {
      "name": "python"
    }
  },
  "cells": [
    {
      "cell_type": "code",
      "execution_count": null,
      "metadata": {
        "id": "76ZLCFpgqWD8"
      },
      "outputs": [],
      "source": [
        "import os\n",
        "import pandas as pd\n",
        "import json\n",
        "\n",
        "def convert_csv_to_json(csv_file_path, json_file_path):\n",
        "    # CSV 파일을 읽을 때 인코딩을 'utf-8'로 지정\n",
        "    try:\n",
        "        df = pd.read_csv(csv_file_path, encoding='utf-8')\n",
        "    except UnicodeDecodeError:\n",
        "        print(f\"UnicodeDecodeError: 문제 발생 - {csv_file_path}. UTF-8로 인코딩하여 다시 시도합니다.\")\n",
        "        df = pd.read_csv(csv_file_path, encoding='euc-kr')  # 또는 다른 인코딩 시도\n",
        "\n",
        "    # DataFrame을 JSON으로 변환\n",
        "    data = df.to_dict(orient='records')\n",
        "\n",
        "    # JSON 파일로 저장할 때도 인코딩을 'utf-8'로 지정\n",
        "    with open(json_file_path, 'w', encoding='utf-8') as json_file:\n",
        "        json.dump(data, json_file, ensure_ascii=False, indent=4)  # ensure_ascii=False로 설정하여 한글이 제대로 저장되게 함\n",
        "\n",
        "    print(f\"CSV 파일 {csv_file_path}이(가) JSON 파일 {json_file_path}로 변환되었습니다.\")\n",
        "\n",
        "def convert_all_csv_in_directory(directory_path):\n",
        "    for filename in os.listdir(directory_path):\n",
        "        if filename.endswith('.csv'):\n",
        "            csv_file_path = os.path.join(directory_path, filename)\n",
        "            json_file_path = os.path.join(directory_path, filename.replace('.csv', '.json'))\n",
        "            convert_csv_to_json(csv_file_path, json_file_path)\n",
        "\n",
        "# CSV 파일들이 있는 디렉토리 경로\n",
        "directory_path = './Pitchers relative record'\n",
        "convert_all_csv_in_directory(directory_path)"
      ]
    },
    {
      "cell_type": "code",
      "source": [],
      "metadata": {
        "id": "LJR92CAxqajP"
      },
      "execution_count": null,
      "outputs": []
    }
  ]
}