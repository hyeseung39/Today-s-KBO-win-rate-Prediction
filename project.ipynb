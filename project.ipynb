{
 "cells": [
  {
   "cell_type": "code",
   "execution_count": 19,
   "metadata": {},
   "outputs": [
    {
     "ename": "TypeError",
     "evalue": "'ChatCompletion' object is not subscriptable",
     "output_type": "error",
     "traceback": [
      "\u001b[1;31m---------------------------------------------------------------------------\u001b[0m",
      "\u001b[1;31mTypeError\u001b[0m                                 Traceback (most recent call last)",
      "Cell \u001b[1;32mIn[19], line 44\u001b[0m\n\u001b[0;32m     42\u001b[0m \u001b[38;5;66;03m# 예시 질문\u001b[39;00m\n\u001b[0;32m     43\u001b[0m question \u001b[38;5;241m=\u001b[39m \u001b[38;5;124m\"\u001b[39m\u001b[38;5;124mWhich players is Elias strong against?\u001b[39m\u001b[38;5;124m\"\u001b[39m\n\u001b[1;32m---> 44\u001b[0m answer \u001b[38;5;241m=\u001b[39m ask_question_with_context(question)\n\u001b[0;32m     46\u001b[0m \u001b[38;5;28mprint\u001b[39m(\u001b[38;5;124mf\u001b[39m\u001b[38;5;124m\"\u001b[39m\u001b[38;5;124mQuestion: \u001b[39m\u001b[38;5;132;01m{\u001b[39;00mquestion\u001b[38;5;132;01m}\u001b[39;00m\u001b[38;5;124m\"\u001b[39m)\n\u001b[0;32m     47\u001b[0m \u001b[38;5;28mprint\u001b[39m(\u001b[38;5;124mf\u001b[39m\u001b[38;5;124m\"\u001b[39m\u001b[38;5;124mAnswer: \u001b[39m\u001b[38;5;132;01m{\u001b[39;00manswer\u001b[38;5;132;01m}\u001b[39;00m\u001b[38;5;124m\"\u001b[39m)\n",
      "Cell \u001b[1;32mIn[19], line 40\u001b[0m, in \u001b[0;36mask_question_with_context\u001b[1;34m(question)\u001b[0m\n\u001b[0;32m     31\u001b[0m \u001b[38;5;28;01mdef\u001b[39;00m \u001b[38;5;21mask_question_with_context\u001b[39m(question):\n\u001b[0;32m     32\u001b[0m     response \u001b[38;5;241m=\u001b[39m client\u001b[38;5;241m.\u001b[39mchat\u001b[38;5;241m.\u001b[39mcompletions\u001b[38;5;241m.\u001b[39mcreate(\n\u001b[0;32m     33\u001b[0m         model\u001b[38;5;241m=\u001b[39m\u001b[38;5;124m\"\u001b[39m\u001b[38;5;124mphi3.5\u001b[39m\u001b[38;5;124m\"\u001b[39m,\n\u001b[0;32m     34\u001b[0m         messages\u001b[38;5;241m=\u001b[39m[\n\u001b[1;32m   (...)\u001b[0m\n\u001b[0;32m     38\u001b[0m         ]\n\u001b[0;32m     39\u001b[0m     )\n\u001b[1;32m---> 40\u001b[0m     \u001b[38;5;28;01mreturn\u001b[39;00m response[\u001b[38;5;124m'\u001b[39m\u001b[38;5;124mchoices\u001b[39m\u001b[38;5;124m'\u001b[39m][\u001b[38;5;241m0\u001b[39m][\u001b[38;5;124m'\u001b[39m\u001b[38;5;124mmessage\u001b[39m\u001b[38;5;124m'\u001b[39m][\u001b[38;5;124m'\u001b[39m\u001b[38;5;124mcontent\u001b[39m\u001b[38;5;124m'\u001b[39m]\n",
      "\u001b[1;31mTypeError\u001b[0m: 'ChatCompletion' object is not subscriptable"
     ]
    }
   ],
   "source": [
    "import os\n",
    "import openai\n",
    "from openai import OpenAI\n",
    "\n",
    "# Ollama 서버의 API 엔드포인트 및 API 키 설정\n",
    "client = OpenAI(\n",
    "    base_url='http://localhost:11434/v1',  # Ollama의 로컬 서버 주소\n",
    "    api_key='ollama',  # 필수이지만 실제로 사용되지는 않음\n",
    ")\n",
    "\n",
    "# 데이터 파일을 읽어오는 함수\n",
    "def load_data_from_directory(directory_path):\n",
    "    data_content = \"\"\n",
    "    file_names = []  # 파일 이름을 저장할 리스트\n",
    "    for filename in os.listdir(directory_path):\n",
    "        file_path = os.path.join(directory_path, filename)\n",
    "        if os.path.isfile(file_path) and filename.endswith(\".txt\"):  # 텍스트 파일만 읽음\n",
    "            file_names.append(filename)  # 파일 이름 저장\n",
    "            with open(file_path, 'r', encoding='utf-8') as file:\n",
    "                data_content += file.read() + \"\\n\"  # 파일 내용 누적\n",
    "    return data_content, file_names\n",
    "\n",
    "# 디렉토리에서 데이터와 파일 이름 로드\n",
    "directory_path = './Pitchers relative record'  # 데이터를 저장한 디렉토리 경로\n",
    "context_data, file_names = load_data_from_directory(directory_path)\n",
    "\n",
    "# 사용자의 질문에 데이터를 참고하여 답변 생성\n",
    "def ask_question_with_context(question):\n",
    "    # 파일 이름을 컨텍스트에 추가\n",
    "    file_names_str = \", \".join(file_names)\n",
    "    response = client.chat.completions.create(\n",
    "        model=\"phi3.5\",\n",
    "        messages=[\n",
    "            {\"role\": \"system\", \"content\": \"You are a helpful assistant.\"},\n",
    "            {\"role\": \"system\", \"content\": f\"The following files were loaded: {file_names_str}.\"},\n",
    "            {\"role\": \"system\", \"content\": f\"The following context is provided for reference: {context_data}\"},\n",
    "            {\"role\": \"user\", \"content\": question},\n",
    "        ]\n",
    "    )\n",
    "    return response.choices[0].message.content  # 응답의 내용을 반환\n",
    "\n",
    "# 예시 질문\n",
    "question = \"Please tell me the file name of one of the files you read.\"\n",
    "answer = ask_question_with_context(question)\n",
    "\n",
    "print(f\"Question: {question}\")\n",
    "print(f\"Answer: {answer}\")"
   ]
  },
  {
   "cell_type": "code",
   "execution_count": 6,
   "metadata": {},
   "outputs": [],
   "source": []
  },
  {
   "cell_type": "code",
   "execution_count": null,
   "metadata": {},
   "outputs": [],
   "source": []
  }
 ],
 "metadata": {
  "kernelspec": {
   "display_name": "base",
   "language": "python",
   "name": "python3"
  },
  "language_info": {
   "codemirror_mode": {
    "name": "ipython",
    "version": 3
   },
   "file_extension": ".py",
   "mimetype": "text/x-python",
   "name": "python",
   "nbconvert_exporter": "python",
   "pygments_lexer": "ipython3",
   "version": "3.12.4"
  }
 },
 "nbformat": 4,
 "nbformat_minor": 2
}
